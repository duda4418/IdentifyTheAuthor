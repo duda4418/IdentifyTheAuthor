{
 "cells": [
  {
   "cell_type": "code",
   "execution_count": 1,
   "id": "c4b1ecc8",
   "metadata": {
    "execution": {
     "iopub.execute_input": "2025-07-23T16:14:51.150177Z",
     "iopub.status.busy": "2025-07-23T16:14:51.149798Z",
     "iopub.status.idle": "2025-07-23T16:14:54.327491Z",
     "shell.execute_reply": "2025-07-23T16:14:54.326658Z"
    },
    "papermill": {
     "duration": 3.184058,
     "end_time": "2025-07-23T16:14:54.329112",
     "exception": false,
     "start_time": "2025-07-23T16:14:51.145054",
     "status": "completed"
    },
    "tags": []
   },
   "outputs": [
    {
     "name": "stdout",
     "output_type": "stream",
     "text": [
      "Original corpus size: 50952\n",
      "Test size: 8392\n",
      "Common lines: 5266\n",
      "Filtered corpus size: 45677\n"
     ]
    }
   ],
   "source": [
    "import pandas as pd\n",
    "\n",
    "# Load CSV files\n",
    "corpus_df = pd.read_csv('/kaggle/input/d/lteodor/identify-the-author/labeled_sentence_corpus.csv')\n",
    "test_df = pd.read_csv('/kaggle/input/identify-the-author/test/test.csv')\n",
    "\n",
    "# Drop duplicates and lowercase for comparison\n",
    "corpus_df = corpus_df.drop_duplicates()\n",
    "test_df = test_df.drop_duplicates()\n",
    "\n",
    "corpus_df['text'] = corpus_df['text'].str.strip().str.lower()\n",
    "test_df['text'] = test_df['text'].str.strip().str.lower()\n",
    "\n",
    "# Identify common lines\n",
    "common_texts = set(corpus_df['text']) & set(test_df['text'])\n",
    "\n",
    "# Filter out common lines from the corpus\n",
    "filtered_corpus_df = corpus_df[~corpus_df['text'].isin(common_texts)]\n",
    "\n",
    "# Show stats\n",
    "print(f\"Original corpus size: {len(corpus_df)}\")\n",
    "print(f\"Test size: {len(test_df)}\")\n",
    "print(f\"Common lines: {len(common_texts)}\")\n",
    "print(f\"Filtered corpus size: {len(filtered_corpus_df)}\")\n",
    "\n",
    "# Save cleaned corpus\n",
    "filtered_corpus_df.to_csv('/kaggle/working/labeled_sentence_corpus_filtered.csv', index=False)\n"
   ]
  },
  {
   "cell_type": "code",
   "execution_count": 2,
   "id": "f4342ad6",
   "metadata": {
    "execution": {
     "iopub.execute_input": "2025-07-23T16:14:54.334116Z",
     "iopub.status.busy": "2025-07-23T16:14:54.333839Z",
     "iopub.status.idle": "2025-07-23T16:14:54.952713Z",
     "shell.execute_reply": "2025-07-23T16:14:54.951677Z"
    },
    "papermill": {
     "duration": 0.623077,
     "end_time": "2025-07-23T16:14:54.954251",
     "exception": false,
     "start_time": "2025-07-23T16:14:54.331174",
     "status": "completed"
    },
    "tags": []
   },
   "outputs": [
    {
     "name": "stdout",
     "output_type": "stream",
     "text": [
      "Added 19565 new lines to the corpus.\n",
      "Updated file saved to: /kaggle/working/updated_labeled_sentence_corpus.csv\n"
     ]
    }
   ],
   "source": [
    "import pandas as pd\n",
    "\n",
    "# Load the datasets\n",
    "corpus_df = pd.read_csv('/kaggle/working/labeled_sentence_corpus_filtered.csv')\n",
    "train_df = pd.read_csv('/kaggle/input/identify-the-author/train/train.csv')\n",
    "\n",
    "# Find lines in train that are not in corpus (based on 'text' field)\n",
    "missing_lines = train_df[~train_df['text'].isin(corpus_df['text'])]\n",
    "\n",
    "# Add missing lines to corpus\n",
    "updated_corpus_df = pd.concat([corpus_df, missing_lines[['text', 'author']]], ignore_index=True)\n",
    "\n",
    "# Save the updated corpus to a new CSV file\n",
    "output_path = '/kaggle/working/updated_labeled_sentence_corpus.csv'\n",
    "updated_corpus_df.to_csv(output_path, index=False)\n",
    "\n",
    "# Optional: Display summary\n",
    "print(f\"Added {len(missing_lines)} new lines to the corpus.\")\n",
    "print(f\"Updated file saved to: {output_path}\")\n"
   ]
  },
  {
   "cell_type": "code",
   "execution_count": 3,
   "id": "dfc62778",
   "metadata": {
    "execution": {
     "iopub.execute_input": "2025-07-23T16:14:54.959153Z",
     "iopub.status.busy": "2025-07-23T16:14:54.958863Z",
     "iopub.status.idle": "2025-07-23T16:14:55.300071Z",
     "shell.execute_reply": "2025-07-23T16:14:55.299055Z"
    },
    "papermill": {
     "duration": 0.345383,
     "end_time": "2025-07-23T16:14:55.301581",
     "exception": false,
     "start_time": "2025-07-23T16:14:54.956198",
     "status": "completed"
    },
    "tags": []
   },
   "outputs": [
    {
     "name": "stdout",
     "output_type": "stream",
     "text": [
      "Original corpus size: 65177\n",
      "Test size: 8392\n",
      "Common lines: 0\n",
      "Filtered corpus size: 45677\n"
     ]
    }
   ],
   "source": [
    "import pandas as pd\n",
    "\n",
    "# Load CSV files\n",
    "corpus_df = pd.read_csv('/kaggle/working/updated_labeled_sentence_corpus.csv')\n",
    "test_df = pd.read_csv('/kaggle/input/identify-the-author/test/test.csv')\n",
    "\n",
    "# Drop duplicates and lowercase for comparison\n",
    "corpus_df = corpus_df.drop_duplicates()\n",
    "test_df = test_df.drop_duplicates()\n",
    "\n",
    "corpus_df['text'] = corpus_df['text'].str.strip().str.lower()\n",
    "test_df['text'] = test_df['text'].str.strip().str.lower()\n",
    "\n",
    "# Identify common lines\n",
    "common_texts = set(corpus_df['text']) & set(test_df['text'])\n",
    "\n",
    "# Show stats\n",
    "print(f\"Original corpus size: {len(corpus_df)}\")\n",
    "print(f\"Test size: {len(test_df)}\")\n",
    "print(f\"Common lines: {len(common_texts)}\")\n",
    "print(f\"Filtered corpus size: {len(filtered_corpus_df)}\")\n",
    "\n",
    "# Save cleaned corpus\n",
    "# filtered_corpus_df.to_csv('/kaggle/working/labeled_sentence_corpus_filtered.csv', index=False)\n"
   ]
  }
 ],
 "metadata": {
  "kaggle": {
   "accelerator": "none",
   "dataSources": [
    {
     "databundleVersionId": 13063981,
     "sourceId": 107840,
     "sourceType": "competition"
    },
    {
     "datasetId": 7919693,
     "sourceId": 12544090,
     "sourceType": "datasetVersion"
    }
   ],
   "dockerImageVersionId": 31089,
   "isGpuEnabled": false,
   "isInternetEnabled": true,
   "language": "python",
   "sourceType": "notebook"
  },
  "kernelspec": {
   "display_name": "Python 3",
   "language": "python",
   "name": "python3"
  },
  "language_info": {
   "codemirror_mode": {
    "name": "ipython",
    "version": 3
   },
   "file_extension": ".py",
   "mimetype": "text/x-python",
   "name": "python",
   "nbconvert_exporter": "python",
   "pygments_lexer": "ipython3",
   "version": "3.11.13"
  },
  "papermill": {
   "default_parameters": {},
   "duration": 10.508672,
   "end_time": "2025-07-23T16:14:55.822839",
   "environment_variables": {},
   "exception": null,
   "input_path": "__notebook__.ipynb",
   "output_path": "__notebook__.ipynb",
   "parameters": {},
   "start_time": "2025-07-23T16:14:45.314167",
   "version": "2.6.0"
  }
 },
 "nbformat": 4,
 "nbformat_minor": 5
}
